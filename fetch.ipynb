{
 "cells": [
  {
   "cell_type": "code",
   "execution_count": 47,
   "metadata": {},
   "outputs": [],
   "source": [
    "import pandas as pd\n",
    "import json\n",
    "from pandas import json_normalize\n",
    "import numpy as np\n",
    "from pandasql import sqldf\n"
   ]
  },
  {
   "cell_type": "code",
   "execution_count": 48,
   "metadata": {},
   "outputs": [],
   "source": [
    "#Loading the json files\n",
    "r = pd.read_json('C:\\\\Users\\\\Karthoz\\\\OneDrive\\\\Documents\\\\FETCH\\\\receipts11\\\\receipts.json', lines=True)\n",
    "u = pd.read_json('C:\\\\Users\\\\Karthoz\\\\OneDrive\\\\Documents\\\\FETCH\\\\users11\\\\users.json', lines=True)\n",
    "b = pd.read_json('C:\\\\Users\\\\Karthoz\\\\OneDrive\\\\Documents\\\\FETCH\\\\brands11\\\\brands.json', lines=True)\n"
   ]
  },
  {
   "cell_type": "code",
   "execution_count": 49,
   "metadata": {},
   "outputs": [],
   "source": [
    "#Creating copies to clean the data\n",
    "df1=r.copy()\n",
    "df2=u.copy()\n",
    "df3=b.copy()"
   ]
  },
  {
   "cell_type": "code",
   "execution_count": 50,
   "metadata": {},
   "outputs": [
    {
     "name": "stdout",
     "output_type": "stream",
     "text": [
      "receipts:  (1119, 15)\n",
      "users:  (495, 7)\n",
      "brands:  (1167, 8)\n"
     ]
    }
   ],
   "source": [
    "print(\"receipts: \",df1.shape)\n",
    "print(\"users: \",df2.shape)\n",
    "print(\"brands: \",df3.shape)\n"
   ]
  },
  {
   "cell_type": "markdown",
   "metadata": {},
   "source": [
    "Cleaning the data to have in suitable format and removing nesting"
   ]
  },
  {
   "cell_type": "code",
   "execution_count": 51,
   "metadata": {},
   "outputs": [],
   "source": [
    "#cleaning the data/ unnesting the columns\n",
    "df1['id']=pd.json_normalize(df1['_id'])\n",
    "df1['create_Date']=pd.json_normalize(df1['createDate'])\n",
    "df1['date_Scanned']=pd.json_normalize(df1['dateScanned'])\n",
    "df1['finished_Date']=pd.json_normalize(df1['finishedDate'])\n",
    "df1['modify_Date']=pd.json_normalize(df1['modifyDate'])\n",
    "df1['pointsAwarded_Date']=pd.json_normalize(df1['pointsAwardedDate'])\n",
    "df1['purchase_Date']=pd.json_normalize(df1['purchaseDate'])\n",
    "\n",
    "df1=df1.drop(['createDate','_id','dateScanned','finishedDate','pointsAwardedDate','purchaseDate','modifyDate'],axis=1)\n",
    "\n"
   ]
  },
  {
   "cell_type": "code",
   "execution_count": 52,
   "metadata": {},
   "outputs": [
    {
     "data": {
      "text/plain": [
       "(1119, 15)"
      ]
     },
     "execution_count": 52,
     "metadata": {},
     "output_type": "execute_result"
    }
   ],
   "source": [
    "df1.shape"
   ]
  },
  {
   "cell_type": "code",
   "execution_count": 53,
   "metadata": {},
   "outputs": [
    {
     "name": "stdout",
     "output_type": "stream",
     "text": [
      "(6941, 15)\n"
     ]
    }
   ],
   "source": [
    "rows = []\n",
    "\n",
    "# Iterate through each row in the DataFrame\n",
    "for index, row in df1.iterrows():\n",
    "    # Get the rewardsReceiptItemList for the current row\n",
    "    items_list = row['rewardsReceiptItemList']\n",
    "   \n",
    "    # If items_list is a list, create a row for each item\n",
    "    if isinstance(items_list, list):\n",
    "        for item in items_list:\n",
    "            # Create a copy of the current row\n",
    "            new_row = row.copy()\n",
    "            # Update the rewardsReceiptItemList with the current item\n",
    "            new_row['rewardsReceiptItemList'] = item\n",
    "            # Append the new row to the list of rows\n",
    "            rows.append(new_row)\n",
    "\n",
    "# Create a new DataFrame from the list of rows\n",
    "result_df = pd.DataFrame(rows)\n",
    "\n",
    "# Display the size of resulting DataFrame, each row has each item\n",
    "print(result_df.shape)\n"
   ]
  },
  {
   "cell_type": "code",
   "execution_count": 54,
   "metadata": {},
   "outputs": [],
   "source": [
    "df_new = pd.json_normalize(result_df['rewardsReceiptItemList'])\n",
    "df_new = df_new.rename(columns={'pointsEarned': 'pointsEarned_item'})\n"
   ]
  },
  {
   "cell_type": "code",
   "execution_count": 55,
   "metadata": {},
   "outputs": [
    {
     "data": {
      "text/plain": [
       "Index(['bonusPointsEarned', 'bonusPointsEarnedReason', 'pointsEarned',\n",
       "       'purchasedItemCount', 'rewardsReceiptItemList', 'rewardsReceiptStatus',\n",
       "       'totalSpent', 'userId', 'id', 'create_Date', 'date_Scanned',\n",
       "       'finished_Date', 'modify_Date', 'pointsAwarded_Date', 'purchase_Date'],\n",
       "      dtype='object')"
      ]
     },
     "execution_count": 55,
     "metadata": {},
     "output_type": "execute_result"
    }
   ],
   "source": [
    "result_df.columns"
   ]
  },
  {
   "cell_type": "code",
   "execution_count": 56,
   "metadata": {},
   "outputs": [
    {
     "data": {
      "text/plain": [
       "Index(['barcode', 'description', 'finalPrice', 'itemPrice', 'needsFetchReview',\n",
       "       'partnerItemId', 'preventTargetGapPoints', 'quantityPurchased',\n",
       "       'userFlaggedBarcode', 'userFlaggedNewItem', 'userFlaggedPrice',\n",
       "       'userFlaggedQuantity', 'needsFetchReviewReason',\n",
       "       'pointsNotAwardedReason', 'pointsPayerId', 'rewardsGroup',\n",
       "       'rewardsProductPartnerId', 'userFlaggedDescription',\n",
       "       'originalMetaBriteBarcode', 'originalMetaBriteDescription', 'brandCode',\n",
       "       'competitorRewardsGroup', 'discountedItemPrice',\n",
       "       'originalReceiptItemText', 'itemNumber',\n",
       "       'originalMetaBriteQuantityPurchased', 'pointsEarned_item',\n",
       "       'targetPrice', 'competitiveProduct', 'originalFinalPrice',\n",
       "       'originalMetaBriteItemPrice', 'deleted', 'priceAfterCoupon',\n",
       "       'metabriteCampaignId'],\n",
       "      dtype='object')"
      ]
     },
     "execution_count": 56,
     "metadata": {},
     "output_type": "execute_result"
    }
   ],
   "source": [
    "df_new.columns"
   ]
  },
  {
   "cell_type": "code",
   "execution_count": 57,
   "metadata": {},
   "outputs": [],
   "source": [
    "#Final receipts table\n",
    "df_new.reset_index(inplace=True, drop=True)\n",
    "result_df.reset_index(inplace=True, drop=True)\n",
    "receipts = pd.concat([result_df,df_new],axis=1)\n",
    "receipts= receipts.drop(['rewardsReceiptItemList'],axis=1)\n",
    "# receipts.columns.values[2] = 'pointsEarned_receipt'\n"
   ]
  },
  {
   "cell_type": "code",
   "execution_count": 58,
   "metadata": {},
   "outputs": [],
   "source": [
    "receipts['create_Date'] = pd.to_datetime(receipts['create_Date'],unit='ms')\n",
    "receipts['date_Scanned'] = pd.to_datetime(receipts['date_Scanned'],unit='ms')\n",
    "receipts['finished_Date'] = pd.to_datetime(receipts['finished_Date'],unit='ms')\n",
    "receipts['modify_Date'] = pd.to_datetime(receipts['modify_Date'],unit='ms')\n",
    "receipts['pointsAwarded_Date'] = pd.to_datetime(receipts['pointsAwarded_Date'],unit='ms')\n",
    "receipts['purchase_Date'] = pd.to_datetime(receipts['purchase_Date'],unit='ms')\n",
    "receipts['modify_Date'] = pd.to_datetime(receipts['modify_Date'],unit='ms')\n"
   ]
  },
  {
   "cell_type": "code",
   "execution_count": 59,
   "metadata": {},
   "outputs": [],
   "source": [
    "items = receipts[['id','barcode', 'description',\n",
    "       'finalPrice', 'itemPrice', 'needsFetchReview', 'partnerItemId',\n",
    "       'preventTargetGapPoints', 'quantityPurchased', 'userFlaggedBarcode',\n",
    "       'userFlaggedNewItem', 'userFlaggedPrice', 'userFlaggedQuantity',\n",
    "       'needsFetchReviewReason', 'pointsNotAwardedReason', 'pointsPayerId',\n",
    "       'rewardsGroup', 'rewardsProductPartnerId', 'userFlaggedDescription',\n",
    "       'originalMetaBriteBarcode', 'originalMetaBriteDescription', 'brandCode',\n",
    "       'competitorRewardsGroup', 'discountedItemPrice',\n",
    "       'originalReceiptItemText', 'itemNumber',\n",
    "       'originalMetaBriteQuantityPurchased', 'pointsEarned_item',\n",
    "       'targetPrice', 'competitiveProduct', 'originalFinalPrice',\n",
    "       'originalMetaBriteItemPrice', 'deleted', 'priceAfterCoupon',\n",
    "       'metabriteCampaignId']]"
   ]
  },
  {
   "cell_type": "code",
   "execution_count": 60,
   "metadata": {},
   "outputs": [],
   "source": [
    "receipts = receipts.drop(['barcode', 'description',\n",
    "       'finalPrice', 'itemPrice', 'needsFetchReview', 'partnerItemId',\n",
    "       'preventTargetGapPoints', 'quantityPurchased', 'userFlaggedBarcode',\n",
    "       'userFlaggedNewItem', 'userFlaggedPrice', 'userFlaggedQuantity',\n",
    "       'needsFetchReviewReason', 'pointsNotAwardedReason', 'pointsPayerId',\n",
    "       'rewardsGroup', 'rewardsProductPartnerId', 'userFlaggedDescription',\n",
    "       'originalMetaBriteBarcode', 'originalMetaBriteDescription', 'brandCode',\n",
    "       'competitorRewardsGroup', 'discountedItemPrice',\n",
    "       'originalReceiptItemText', 'itemNumber',\n",
    "       'originalMetaBriteQuantityPurchased', 'pointsEarned_item',\n",
    "       'targetPrice', 'competitiveProduct', 'originalFinalPrice',\n",
    "       'originalMetaBriteItemPrice', 'deleted', 'priceAfterCoupon',\n",
    "       'metabriteCampaignId'],axis=1)"
   ]
  },
  {
   "cell_type": "code",
   "execution_count": 61,
   "metadata": {},
   "outputs": [
    {
     "data": {
      "text/html": [
       "<div>\n",
       "<style scoped>\n",
       "    .dataframe tbody tr th:only-of-type {\n",
       "        vertical-align: middle;\n",
       "    }\n",
       "\n",
       "    .dataframe tbody tr th {\n",
       "        vertical-align: top;\n",
       "    }\n",
       "\n",
       "    .dataframe thead th {\n",
       "        text-align: right;\n",
       "    }\n",
       "</style>\n",
       "<table border=\"1\" class=\"dataframe\">\n",
       "  <thead>\n",
       "    <tr style=\"text-align: right;\">\n",
       "      <th></th>\n",
       "      <th>active</th>\n",
       "      <th>role</th>\n",
       "      <th>signUpSource</th>\n",
       "      <th>state</th>\n",
       "      <th>id</th>\n",
       "      <th>created_Date</th>\n",
       "      <th>last_Login</th>\n",
       "    </tr>\n",
       "  </thead>\n",
       "  <tbody>\n",
       "    <tr>\n",
       "      <th>0</th>\n",
       "      <td>True</td>\n",
       "      <td>consumer</td>\n",
       "      <td>Email</td>\n",
       "      <td>WI</td>\n",
       "      <td>5ff1e194b6a9d73a3a9f1052</td>\n",
       "      <td>2021-01-03 15:24:04.800</td>\n",
       "      <td>2021-01-03 15:25:37.858</td>\n",
       "    </tr>\n",
       "    <tr>\n",
       "      <th>1</th>\n",
       "      <td>True</td>\n",
       "      <td>consumer</td>\n",
       "      <td>Email</td>\n",
       "      <td>WI</td>\n",
       "      <td>5ff1e194b6a9d73a3a9f1052</td>\n",
       "      <td>2021-01-03 15:24:04.800</td>\n",
       "      <td>2021-01-03 15:25:37.858</td>\n",
       "    </tr>\n",
       "    <tr>\n",
       "      <th>2</th>\n",
       "      <td>True</td>\n",
       "      <td>consumer</td>\n",
       "      <td>Email</td>\n",
       "      <td>WI</td>\n",
       "      <td>5ff1e194b6a9d73a3a9f1052</td>\n",
       "      <td>2021-01-03 15:24:04.800</td>\n",
       "      <td>2021-01-03 15:25:37.858</td>\n",
       "    </tr>\n",
       "    <tr>\n",
       "      <th>3</th>\n",
       "      <td>True</td>\n",
       "      <td>consumer</td>\n",
       "      <td>Email</td>\n",
       "      <td>WI</td>\n",
       "      <td>5ff1e1eacfcf6c399c274ae6</td>\n",
       "      <td>2021-01-03 15:25:30.554</td>\n",
       "      <td>2021-01-03 15:25:30.597</td>\n",
       "    </tr>\n",
       "    <tr>\n",
       "      <th>4</th>\n",
       "      <td>True</td>\n",
       "      <td>consumer</td>\n",
       "      <td>Email</td>\n",
       "      <td>WI</td>\n",
       "      <td>5ff1e194b6a9d73a3a9f1052</td>\n",
       "      <td>2021-01-03 15:24:04.800</td>\n",
       "      <td>2021-01-03 15:25:37.858</td>\n",
       "    </tr>\n",
       "  </tbody>\n",
       "</table>\n",
       "</div>"
      ],
      "text/plain": [
       "   active      role signUpSource state                        id  \\\n",
       "0    True  consumer        Email    WI  5ff1e194b6a9d73a3a9f1052   \n",
       "1    True  consumer        Email    WI  5ff1e194b6a9d73a3a9f1052   \n",
       "2    True  consumer        Email    WI  5ff1e194b6a9d73a3a9f1052   \n",
       "3    True  consumer        Email    WI  5ff1e1eacfcf6c399c274ae6   \n",
       "4    True  consumer        Email    WI  5ff1e194b6a9d73a3a9f1052   \n",
       "\n",
       "             created_Date              last_Login  \n",
       "0 2021-01-03 15:24:04.800 2021-01-03 15:25:37.858  \n",
       "1 2021-01-03 15:24:04.800 2021-01-03 15:25:37.858  \n",
       "2 2021-01-03 15:24:04.800 2021-01-03 15:25:37.858  \n",
       "3 2021-01-03 15:25:30.554 2021-01-03 15:25:30.597  \n",
       "4 2021-01-03 15:24:04.800 2021-01-03 15:25:37.858  "
      ]
     },
     "execution_count": 61,
     "metadata": {},
     "output_type": "execute_result"
    }
   ],
   "source": [
    "df2['id']=pd.json_normalize(df2['_id'])\n",
    "df2['created_Date']=pd.json_normalize(df2['createdDate'])\n",
    "df2['last_Login']=pd.json_normalize(df2['lastLogin'])\n",
    "df2=df2.drop(['createdDate','_id','lastLogin'],axis=1)\n",
    "\n",
    "df2.head()\n",
    "df2['created_Date']=pd.to_datetime(df2['created_Date'],unit='ms')\n",
    "df2['last_Login']=pd.to_datetime(df2['last_Login'],unit='ms')\n",
    "users=df2.copy()\n",
    "users.head()\n"
   ]
  },
  {
   "cell_type": "code",
   "execution_count": 62,
   "metadata": {},
   "outputs": [
    {
     "data": {
      "text/plain": [
       "(1167, 8)"
      ]
     },
     "execution_count": 62,
     "metadata": {},
     "output_type": "execute_result"
    }
   ],
   "source": [
    "df3.shape"
   ]
  },
  {
   "cell_type": "code",
   "execution_count": 63,
   "metadata": {},
   "outputs": [
    {
     "data": {
      "text/html": [
       "<div>\n",
       "<style scoped>\n",
       "    .dataframe tbody tr th:only-of-type {\n",
       "        vertical-align: middle;\n",
       "    }\n",
       "\n",
       "    .dataframe tbody tr th {\n",
       "        vertical-align: top;\n",
       "    }\n",
       "\n",
       "    .dataframe thead th {\n",
       "        text-align: right;\n",
       "    }\n",
       "</style>\n",
       "<table border=\"1\" class=\"dataframe\">\n",
       "  <thead>\n",
       "    <tr style=\"text-align: right;\">\n",
       "      <th></th>\n",
       "      <th>barcode</th>\n",
       "      <th>category</th>\n",
       "      <th>categoryCode</th>\n",
       "      <th>name</th>\n",
       "      <th>topBrand</th>\n",
       "      <th>brandCode</th>\n",
       "      <th>id</th>\n",
       "      <th>cpg_id</th>\n",
       "      <th>cpg_ref</th>\n",
       "    </tr>\n",
       "  </thead>\n",
       "  <tbody>\n",
       "    <tr>\n",
       "      <th>0</th>\n",
       "      <td>511111019862</td>\n",
       "      <td>Baking</td>\n",
       "      <td>BAKING</td>\n",
       "      <td>test brand @1612366101024</td>\n",
       "      <td>0.0</td>\n",
       "      <td>NaN</td>\n",
       "      <td>601ac115be37ce2ead437551</td>\n",
       "      <td>601ac114be37ce2ead437550</td>\n",
       "      <td>Cogs</td>\n",
       "    </tr>\n",
       "    <tr>\n",
       "      <th>1</th>\n",
       "      <td>511111519928</td>\n",
       "      <td>Beverages</td>\n",
       "      <td>BEVERAGES</td>\n",
       "      <td>Starbucks</td>\n",
       "      <td>0.0</td>\n",
       "      <td>STARBUCKS</td>\n",
       "      <td>601c5460be37ce2ead43755f</td>\n",
       "      <td>5332f5fbe4b03c9a25efd0ba</td>\n",
       "      <td>Cogs</td>\n",
       "    </tr>\n",
       "    <tr>\n",
       "      <th>2</th>\n",
       "      <td>511111819905</td>\n",
       "      <td>Baking</td>\n",
       "      <td>BAKING</td>\n",
       "      <td>test brand @1612366146176</td>\n",
       "      <td>0.0</td>\n",
       "      <td>TEST BRANDCODE @1612366146176</td>\n",
       "      <td>601ac142be37ce2ead43755d</td>\n",
       "      <td>601ac142be37ce2ead437559</td>\n",
       "      <td>Cogs</td>\n",
       "    </tr>\n",
       "    <tr>\n",
       "      <th>3</th>\n",
       "      <td>511111519874</td>\n",
       "      <td>Baking</td>\n",
       "      <td>BAKING</td>\n",
       "      <td>test brand @1612366146051</td>\n",
       "      <td>0.0</td>\n",
       "      <td>TEST BRANDCODE @1612366146051</td>\n",
       "      <td>601ac142be37ce2ead43755a</td>\n",
       "      <td>601ac142be37ce2ead437559</td>\n",
       "      <td>Cogs</td>\n",
       "    </tr>\n",
       "    <tr>\n",
       "      <th>4</th>\n",
       "      <td>511111319917</td>\n",
       "      <td>Candy &amp; Sweets</td>\n",
       "      <td>CANDY_AND_SWEETS</td>\n",
       "      <td>test brand @1612366146827</td>\n",
       "      <td>0.0</td>\n",
       "      <td>TEST BRANDCODE @1612366146827</td>\n",
       "      <td>601ac142be37ce2ead43755e</td>\n",
       "      <td>5332fa12e4b03c9a25efd1e7</td>\n",
       "      <td>Cogs</td>\n",
       "    </tr>\n",
       "  </tbody>\n",
       "</table>\n",
       "</div>"
      ],
      "text/plain": [
       "        barcode        category      categoryCode                       name  \\\n",
       "0  511111019862          Baking            BAKING  test brand @1612366101024   \n",
       "1  511111519928       Beverages         BEVERAGES                  Starbucks   \n",
       "2  511111819905          Baking            BAKING  test brand @1612366146176   \n",
       "3  511111519874          Baking            BAKING  test brand @1612366146051   \n",
       "4  511111319917  Candy & Sweets  CANDY_AND_SWEETS  test brand @1612366146827   \n",
       "\n",
       "   topBrand                      brandCode                        id  \\\n",
       "0       0.0                            NaN  601ac115be37ce2ead437551   \n",
       "1       0.0                      STARBUCKS  601c5460be37ce2ead43755f   \n",
       "2       0.0  TEST BRANDCODE @1612366146176  601ac142be37ce2ead43755d   \n",
       "3       0.0  TEST BRANDCODE @1612366146051  601ac142be37ce2ead43755a   \n",
       "4       0.0  TEST BRANDCODE @1612366146827  601ac142be37ce2ead43755e   \n",
       "\n",
       "                     cpg_id cpg_ref  \n",
       "0  601ac114be37ce2ead437550    Cogs  \n",
       "1  5332f5fbe4b03c9a25efd0ba    Cogs  \n",
       "2  601ac142be37ce2ead437559    Cogs  \n",
       "3  601ac142be37ce2ead437559    Cogs  \n",
       "4  5332fa12e4b03c9a25efd1e7    Cogs  "
      ]
     },
     "execution_count": 63,
     "metadata": {},
     "output_type": "execute_result"
    }
   ],
   "source": [
    "df3['id']=pd.json_normalize(df3['_id'])\n",
    "df_cpg=df3.cpg.apply(pd.Series)\n",
    "df_cpg['$ref'].unique()  #we can delete this column as it has only 2 values and probably both are same and its typo \n",
    "df3['cpg_id']=pd.json_normalize(df_cpg['$id'])\n",
    "df3['cpg_ref']=df_cpg['$ref']\n",
    "\n",
    "df3 = df3.drop(['_id','cpg'],axis=1)\n",
    "# df3.head()\n",
    "brands=df3.copy()\n",
    "brands.head()"
   ]
  },
  {
   "cell_type": "markdown",
   "metadata": {},
   "source": [
    "Creating Final tables : Rewards , Receipts, Users, Brands"
   ]
  },
  {
   "cell_type": "code",
   "execution_count": 64,
   "metadata": {},
   "outputs": [],
   "source": [
    "# \n",
    "items['barcode'] = items['barcode'].astype(str)\n",
    "\n",
    "brands['barcode']=brands['barcode'].astype(str)\n"
   ]
  },
  {
   "cell_type": "code",
   "execution_count": 65,
   "metadata": {},
   "outputs": [
    {
     "data": {
      "text/plain": [
       "Index(['active', 'role', 'signUpSource', 'state', 'id', 'created_Date',\n",
       "       'last_Login'],\n",
       "      dtype='object')"
      ]
     },
     "execution_count": 65,
     "metadata": {},
     "output_type": "execute_result"
    }
   ],
   "source": [
    "users.columns"
   ]
  },
  {
   "cell_type": "code",
   "execution_count": 66,
   "metadata": {},
   "outputs": [
    {
     "data": {
      "text/plain": [
       "Index(['barcode', 'category', 'categoryCode', 'name', 'topBrand', 'brandCode',\n",
       "       'id', 'cpg_id', 'cpg_ref'],\n",
       "      dtype='object')"
      ]
     },
     "execution_count": 66,
     "metadata": {},
     "output_type": "execute_result"
    }
   ],
   "source": [
    "brands.columns"
   ]
  },
  {
   "cell_type": "code",
   "execution_count": 67,
   "metadata": {},
   "outputs": [
    {
     "data": {
      "text/plain": [
       "Index(['id', 'barcode', 'description', 'finalPrice', 'itemPrice',\n",
       "       'needsFetchReview', 'partnerItemId', 'preventTargetGapPoints',\n",
       "       'quantityPurchased', 'userFlaggedBarcode', 'userFlaggedNewItem',\n",
       "       'userFlaggedPrice', 'userFlaggedQuantity', 'needsFetchReviewReason',\n",
       "       'pointsNotAwardedReason', 'pointsPayerId', 'rewardsGroup',\n",
       "       'rewardsProductPartnerId', 'userFlaggedDescription',\n",
       "       'originalMetaBriteBarcode', 'originalMetaBriteDescription', 'brandCode',\n",
       "       'competitorRewardsGroup', 'discountedItemPrice',\n",
       "       'originalReceiptItemText', 'itemNumber',\n",
       "       'originalMetaBriteQuantityPurchased', 'pointsEarned_item',\n",
       "       'targetPrice', 'competitiveProduct', 'originalFinalPrice',\n",
       "       'originalMetaBriteItemPrice', 'deleted', 'priceAfterCoupon',\n",
       "       'metabriteCampaignId'],\n",
       "      dtype='object')"
      ]
     },
     "execution_count": 67,
     "metadata": {},
     "output_type": "execute_result"
    }
   ],
   "source": [
    "items.columns"
   ]
  },
  {
   "cell_type": "code",
   "execution_count": 68,
   "metadata": {},
   "outputs": [
    {
     "data": {
      "text/plain": [
       "Index(['bonusPointsEarned', 'bonusPointsEarnedReason', 'pointsEarned',\n",
       "       'purchasedItemCount', 'rewardsReceiptStatus', 'totalSpent', 'userId',\n",
       "       'id', 'create_Date', 'date_Scanned', 'finished_Date', 'modify_Date',\n",
       "       'pointsAwarded_Date', 'purchase_Date'],\n",
       "      dtype='object')"
      ]
     },
     "execution_count": 68,
     "metadata": {},
     "output_type": "execute_result"
    }
   ],
   "source": [
    "receipts.columns"
   ]
  },
  {
   "cell_type": "code",
   "execution_count": 69,
   "metadata": {},
   "outputs": [
    {
     "name": "stdout",
     "output_type": "stream",
     "text": [
      "receipts:  (6941, 14)\n",
      "users:  (495, 7)\n",
      "brands:  (1167, 9)\n",
      "items:  (6941, 35)\n"
     ]
    }
   ],
   "source": [
    "print(\"receipts: \",receipts.shape)\n",
    "print(\"users: \",users.shape)\n",
    "print(\"brands: \",brands.shape)\n",
    "print(\"items: \",items.shape)\n"
   ]
  },
  {
   "cell_type": "code",
   "execution_count": 70,
   "metadata": {},
   "outputs": [
    {
     "data": {
      "text/plain": [
       "(89, 43)"
      ]
     },
     "execution_count": 70,
     "metadata": {},
     "output_type": "execute_result"
    }
   ],
   "source": [
    "df_join = pd.merge(brands, items, on=\"barcode\")\n",
    "df_join.shape  #only 89 rows matched"
   ]
  },
  {
   "cell_type": "markdown",
   "metadata": {},
   "source": [
    "\n",
    "### 3. Data Quality "
   ]
  },
  {
   "cell_type": "code",
   "execution_count": 71,
   "metadata": {},
   "outputs": [
    {
     "name": "stdout",
     "output_type": "stream",
     "text": [
      "<class 'pandas.core.frame.DataFrame'>\n",
      "RangeIndex: 6941 entries, 0 to 6940\n",
      "Data columns (total 14 columns):\n",
      " #   Column                   Non-Null Count  Dtype         \n",
      "---  ------                   --------------  -----         \n",
      " 0   bonusPointsEarned        5978 non-null   float64       \n",
      " 1   bonusPointsEarnedReason  5978 non-null   object        \n",
      " 2   pointsEarned             6251 non-null   float64       \n",
      " 3   purchasedItemCount       6892 non-null   float64       \n",
      " 4   rewardsReceiptStatus     6941 non-null   object        \n",
      " 5   totalSpent               6941 non-null   float64       \n",
      " 6   userId                   6941 non-null   object        \n",
      " 7   id                       6941 non-null   object        \n",
      " 8   create_Date              6941 non-null   datetime64[ns]\n",
      " 9   date_Scanned             6941 non-null   datetime64[ns]\n",
      " 10  finished_Date            5967 non-null   datetime64[ns]\n",
      " 11  modify_Date              6941 non-null   datetime64[ns]\n",
      " 12  pointsAwarded_Date       6078 non-null   datetime64[ns]\n",
      " 13  purchase_Date            6920 non-null   datetime64[ns]\n",
      "dtypes: datetime64[ns](6), float64(4), object(4)\n",
      "memory usage: 759.3+ KB\n",
      "<class 'pandas.core.frame.DataFrame'>\n",
      "RangeIndex: 1167 entries, 0 to 1166\n",
      "Data columns (total 9 columns):\n",
      " #   Column        Non-Null Count  Dtype  \n",
      "---  ------        --------------  -----  \n",
      " 0   barcode       1167 non-null   object \n",
      " 1   category      1012 non-null   object \n",
      " 2   categoryCode  517 non-null    object \n",
      " 3   name          1167 non-null   object \n",
      " 4   topBrand      555 non-null    float64\n",
      " 5   brandCode     933 non-null    object \n",
      " 6   id            1167 non-null   object \n",
      " 7   cpg_id        1167 non-null   object \n",
      " 8   cpg_ref       1167 non-null   object \n",
      "dtypes: float64(1), object(8)\n",
      "memory usage: 82.2+ KB\n",
      "<class 'pandas.core.frame.DataFrame'>\n",
      "RangeIndex: 495 entries, 0 to 494\n",
      "Data columns (total 7 columns):\n",
      " #   Column        Non-Null Count  Dtype         \n",
      "---  ------        --------------  -----         \n",
      " 0   active        495 non-null    bool          \n",
      " 1   role          495 non-null    object        \n",
      " 2   signUpSource  447 non-null    object        \n",
      " 3   state         439 non-null    object        \n",
      " 4   id            495 non-null    object        \n",
      " 5   created_Date  495 non-null    datetime64[ns]\n",
      " 6   last_Login    433 non-null    datetime64[ns]\n",
      "dtypes: bool(1), datetime64[ns](2), object(4)\n",
      "memory usage: 23.8+ KB\n",
      "<class 'pandas.core.frame.DataFrame'>\n",
      "RangeIndex: 6941 entries, 0 to 6940\n",
      "Data columns (total 35 columns):\n",
      " #   Column                              Non-Null Count  Dtype  \n",
      "---  ------                              --------------  -----  \n",
      " 0   id                                  6941 non-null   object \n",
      " 1   barcode                             6941 non-null   object \n",
      " 2   description                         6560 non-null   object \n",
      " 3   finalPrice                          6767 non-null   object \n",
      " 4   itemPrice                           6767 non-null   object \n",
      " 5   needsFetchReview                    813 non-null    object \n",
      " 6   partnerItemId                       6941 non-null   object \n",
      " 7   preventTargetGapPoints              358 non-null    object \n",
      " 8   quantityPurchased                   6767 non-null   float64\n",
      " 9   userFlaggedBarcode                  337 non-null    object \n",
      " 10  userFlaggedNewItem                  323 non-null    object \n",
      " 11  userFlaggedPrice                    299 non-null    object \n",
      " 12  userFlaggedQuantity                 299 non-null    float64\n",
      " 13  needsFetchReviewReason              219 non-null    object \n",
      " 14  pointsNotAwardedReason              340 non-null    object \n",
      " 15  pointsPayerId                       1267 non-null   object \n",
      " 16  rewardsGroup                        1731 non-null   object \n",
      " 17  rewardsProductPartnerId             2269 non-null   object \n",
      " 18  userFlaggedDescription              205 non-null    object \n",
      " 19  originalMetaBriteBarcode            71 non-null     object \n",
      " 20  originalMetaBriteDescription        10 non-null     object \n",
      " 21  brandCode                           2600 non-null   object \n",
      " 22  competitorRewardsGroup              275 non-null    object \n",
      " 23  discountedItemPrice                 5769 non-null   object \n",
      " 24  originalReceiptItemText             5760 non-null   object \n",
      " 25  itemNumber                          153 non-null    object \n",
      " 26  originalMetaBriteQuantityPurchased  15 non-null     float64\n",
      " 27  pointsEarned_item                   927 non-null    object \n",
      " 28  targetPrice                         378 non-null    object \n",
      " 29  competitiveProduct                  645 non-null    object \n",
      " 30  originalFinalPrice                  9 non-null      object \n",
      " 31  originalMetaBriteItemPrice          9 non-null      object \n",
      " 32  deleted                             9 non-null      object \n",
      " 33  priceAfterCoupon                    956 non-null    object \n",
      " 34  metabriteCampaignId                 863 non-null    object \n",
      "dtypes: float64(3), object(32)\n",
      "memory usage: 1.9+ MB\n"
     ]
    }
   ],
   "source": [
    "receipts.info()\n",
    "brands.info()\n",
    "users.info()\n",
    "items.info()"
   ]
  },
  {
   "cell_type": "code",
   "execution_count": 72,
   "metadata": {},
   "outputs": [
    {
     "name": "stdout",
     "output_type": "stream",
     "text": [
      "       bonusPointsEarned  pointsEarned  purchasedItemCount   totalSpent  \\\n",
      "count        5978.000000   6251.000000         6892.000000  6941.000000   \n",
      "mean          625.985781   2176.159782          240.939350  1369.563070   \n",
      "min             5.000000      0.000000            0.000000     0.000000   \n",
      "25%           750.000000    750.000000          103.000000   373.550000   \n",
      "50%           750.000000   1447.000000          167.000000   776.790000   \n",
      "75%           750.000000   2685.800000          335.000000  1183.100000   \n",
      "max           750.000000  10199.800000          689.000000  4721.950000   \n",
      "std           244.382994   2175.841796          221.791039  1589.106795   \n",
      "\n",
      "                         create_Date                   date_Scanned  \\\n",
      "count                           6941                           6941   \n",
      "mean   2021-01-20 17:28:11.781993728  2021-01-20 17:28:11.781993728   \n",
      "min              2020-10-30 20:17:59            2020-10-30 20:17:59   \n",
      "25%              2021-01-16 23:00:53            2021-01-16 23:00:53   \n",
      "50%              2021-01-22 00:36:55            2021-01-22 00:36:55   \n",
      "75%              2021-01-25 20:05:43            2021-01-25 20:05:43   \n",
      "max              2021-03-01 21:32:28            2021-03-01 21:32:28   \n",
      "std                              NaN                            NaN   \n",
      "\n",
      "                       finished_Date                    modify_Date  \\\n",
      "count                           5967                           6941   \n",
      "mean   2021-01-20 18:42:41.553776640  2021-01-21 16:37:51.973896960   \n",
      "min              2021-01-03 15:24:10            2021-01-03 15:24:10   \n",
      "25%              2021-01-16 23:09:03            2021-01-16 23:09:29   \n",
      "50%              2021-01-22 00:30:13            2021-01-22 00:49:55   \n",
      "75%              2021-01-25 14:51:04            2021-01-25 20:25:25   \n",
      "max              2021-02-26 22:36:25            2021-03-01 21:32:29   \n",
      "std                              NaN                            NaN   \n",
      "\n",
      "                  pointsAwarded_Date                  purchase_Date  \n",
      "count                           6078                           6920  \n",
      "mean   2021-01-20 02:20:56.621750784  2021-01-12 15:15:49.342629888  \n",
      "min              2020-10-30 20:18:00            2017-10-30 00:00:00  \n",
      "25%              2021-01-16 03:47:26     2021-01-12 16:34:06.500000  \n",
      "50%       2021-01-21 21:44:11.500000            2021-01-21 00:00:00  \n",
      "75%              2021-01-25 14:51:04            2021-01-24 00:00:00  \n",
      "max              2021-02-26 22:36:25            2021-03-08 17:37:13  \n",
      "std                              NaN                            NaN  \n",
      "       quantityPurchased  userFlaggedQuantity  \\\n",
      "count        6767.000000           299.000000   \n",
      "mean            1.386139             1.872910   \n",
      "std             1.204363             1.314823   \n",
      "min             1.000000             1.000000   \n",
      "25%             1.000000             1.000000   \n",
      "50%             1.000000             1.000000   \n",
      "75%             1.000000             3.000000   \n",
      "max            17.000000             5.000000   \n",
      "\n",
      "       originalMetaBriteQuantityPurchased  \n",
      "count                           15.000000  \n",
      "mean                             1.200000  \n",
      "std                              0.414039  \n",
      "min                              1.000000  \n",
      "25%                              1.000000  \n",
      "50%                              1.000000  \n",
      "75%                              1.000000  \n",
      "max                              2.000000  \n"
     ]
    }
   ],
   "source": [
    "print(receipts.describe())\n",
    "print(items.describe())"
   ]
  },
  {
   "cell_type": "code",
   "execution_count": 73,
   "metadata": {},
   "outputs": [
    {
     "name": "stdout",
     "output_type": "stream",
     "text": [
      "                                  bonusPointsEarnedReason  \\\n",
      "count                                                5978   \n",
      "unique                                                  9   \n",
      "top     Receipt number 1 completed, bonus point schedu...   \n",
      "freq                                                 4605   \n",
      "\n",
      "       rewardsReceiptStatus                    userId  \\\n",
      "count                  6941                      6941   \n",
      "unique                    4                       246   \n",
      "top                FINISHED  600f29a64329897eac239049   \n",
      "freq                   5918                       459   \n",
      "\n",
      "                              id  \n",
      "count                       6941  \n",
      "unique                       679  \n",
      "top     600f2fc80a720f0535000030  \n",
      "freq                         459  \n",
      "            role signUpSource state                        id\n",
      "count        495          447   439                       495\n",
      "unique         2            2     8                       212\n",
      "top     consumer        Email    WI  54943462e4b07e684157a532\n",
      "freq         413          443   396                        20\n",
      "             barcode category categoryCode     name brandCode  \\\n",
      "count           1167     1012          517     1167       933   \n",
      "unique          1160       23           14     1156       897   \n",
      "top     511111305125   Baking       BAKING  Huggies             \n",
      "freq               2      369          359        2        35   \n",
      "\n",
      "                              id                    cpg_id cpg_ref  \n",
      "count                       1167                      1167    1167  \n",
      "unique                      1167                       196       2  \n",
      "top     601ac115be37ce2ead437551  559c2234e4b06aca36af13c6    Cogs  \n",
      "freq                           1                        98    1020  \n",
      "                              id barcode     description finalPrice itemPrice  \\\n",
      "count                       6941    6941            6560       6767      6767   \n",
      "unique                       679     569            1889        828       828   \n",
      "top     600f2fc80a720f0535000030     nan  ITEM NOT FOUND       9.99      9.99   \n",
      "freq                         459    3851             173        355       355   \n",
      "\n",
      "       needsFetchReview partnerItemId preventTargetGapPoints  \\\n",
      "count               813          6941                    358   \n",
      "unique                2           916                      1   \n",
      "top               False             1                   True   \n",
      "freq                594           531                    358   \n",
      "\n",
      "       userFlaggedBarcode userFlaggedNewItem  ...  originalReceiptItemText  \\\n",
      "count                 337                323  ...                     5760   \n",
      "unique                  6                  1  ...                     1738   \n",
      "top          034100573065               True  ...  KLARBRUNN 12PK 12 FL OZ   \n",
      "freq                  166                323  ...                      120   \n",
      "\n",
      "       itemNumber pointsEarned_item targetPrice competitiveProduct  \\\n",
      "count         153               927         378                645   \n",
      "unique         47               277           2                  2   \n",
      "top          4023              50.0         800               True   \n",
      "freq           92               123         299                468   \n",
      "\n",
      "       originalFinalPrice originalMetaBriteItemPrice deleted priceAfterCoupon  \\\n",
      "count                   9                          9       9              956   \n",
      "unique                  2                          2       1              334   \n",
      "top                  1.00                       1.00    True            28.57   \n",
      "freq                    6                          6       9               50   \n",
      "\n",
      "             metabriteCampaignId  \n",
      "count                        863  \n",
      "unique                        75  \n",
      "top     BEN AND JERRYS ICE CREAM  \n",
      "freq                         180  \n",
      "\n",
      "[4 rows x 32 columns]\n"
     ]
    }
   ],
   "source": [
    "print(receipts.describe(include='object'))\n",
    "print(users.describe(include='object'))\n",
    "print(brands.describe(include='object'))\n",
    "print(items.describe(include='object'))"
   ]
  },
  {
   "cell_type": "markdown",
   "metadata": {},
   "source": [
    "##### Missing Data"
   ]
  },
  {
   "cell_type": "code",
   "execution_count": 74,
   "metadata": {},
   "outputs": [
    {
     "name": "stdout",
     "output_type": "stream",
     "text": [
      "Missing Values:\n",
      "bonusPointsEarned          963\n",
      "bonusPointsEarnedReason    963\n",
      "pointsEarned               690\n",
      "purchasedItemCount          49\n",
      "rewardsReceiptStatus         0\n",
      "totalSpent                   0\n",
      "userId                       0\n",
      "id                           0\n",
      "create_Date                  0\n",
      "date_Scanned                 0\n",
      "finished_Date              974\n",
      "modify_Date                  0\n",
      "pointsAwarded_Date         863\n",
      "purchase_Date               21\n",
      "dtype: int64\n",
      "Missing Values:\n",
      "active           0\n",
      "role             0\n",
      "signUpSource    48\n",
      "state           56\n",
      "id               0\n",
      "created_Date     0\n",
      "last_Login      62\n",
      "dtype: int64\n",
      "Missing Values:\n",
      "barcode           0\n",
      "category        155\n",
      "categoryCode    650\n",
      "name              0\n",
      "topBrand        612\n",
      "brandCode       234\n",
      "id                0\n",
      "cpg_id            0\n",
      "cpg_ref           0\n",
      "dtype: int64\n",
      "Missing Values:\n",
      "id                                       0\n",
      "barcode                                  0\n",
      "description                            381\n",
      "finalPrice                             174\n",
      "itemPrice                              174\n",
      "needsFetchReview                      6128\n",
      "partnerItemId                            0\n",
      "preventTargetGapPoints                6583\n",
      "quantityPurchased                      174\n",
      "userFlaggedBarcode                    6604\n",
      "userFlaggedNewItem                    6618\n",
      "userFlaggedPrice                      6642\n",
      "userFlaggedQuantity                   6642\n",
      "needsFetchReviewReason                6722\n",
      "pointsNotAwardedReason                6601\n",
      "pointsPayerId                         5674\n",
      "rewardsGroup                          5210\n",
      "rewardsProductPartnerId               4672\n",
      "userFlaggedDescription                6736\n",
      "originalMetaBriteBarcode              6870\n",
      "originalMetaBriteDescription          6931\n",
      "brandCode                             4341\n",
      "competitorRewardsGroup                6666\n",
      "discountedItemPrice                   1172\n",
      "originalReceiptItemText               1181\n",
      "itemNumber                            6788\n",
      "originalMetaBriteQuantityPurchased    6926\n",
      "pointsEarned_item                     6014\n",
      "targetPrice                           6563\n",
      "competitiveProduct                    6296\n",
      "originalFinalPrice                    6932\n",
      "originalMetaBriteItemPrice            6932\n",
      "deleted                               6932\n",
      "priceAfterCoupon                      5985\n",
      "metabriteCampaignId                   6078\n",
      "dtype: int64\n"
     ]
    }
   ],
   "source": [
    "missing_values_receipts = receipts.isnull().sum()\n",
    "print(\"Missing Values:\")\n",
    "print(missing_values_receipts)\n",
    "missing_values_users = users.isnull().sum()\n",
    "print(\"Missing Values:\")\n",
    "print(missing_values_users)\n",
    "missing_values_brands = brands.isnull().sum()\n",
    "print(\"Missing Values:\")\n",
    "print(missing_values_brands)\n",
    "missing_values_items = items.isnull().sum()\n",
    "print(\"Missing Values:\")\n",
    "print(missing_values_items)"
   ]
  },
  {
   "cell_type": "code",
   "execution_count": 75,
   "metadata": {},
   "outputs": [
    {
     "name": "stdout",
     "output_type": "stream",
     "text": [
      "Missing Percentage in Receipts:\n",
      " bonusPointsEarned          13.874082\n",
      "bonusPointsEarnedReason    13.874082\n",
      "pointsEarned                9.940931\n",
      "purchasedItemCount          0.705950\n",
      "rewardsReceiptStatus        0.000000\n",
      "totalSpent                  0.000000\n",
      "userId                      0.000000\n",
      "id                          0.000000\n",
      "create_Date                 0.000000\n",
      "date_Scanned                0.000000\n",
      "finished_Date              14.032560\n",
      "modify_Date                 0.000000\n",
      "pointsAwarded_Date         12.433367\n",
      "purchase_Date               0.302550\n",
      "dtype: float64\n",
      "Missing Percentage in Items:\n",
      " id                                     0.000000\n",
      "barcode                                0.000000\n",
      "description                            5.489123\n",
      "finalPrice                             2.506843\n",
      "itemPrice                              2.506843\n",
      "needsFetchReview                      88.286990\n",
      "partnerItemId                          0.000000\n",
      "preventTargetGapPoints                94.842242\n",
      "quantityPurchased                      2.506843\n",
      "userFlaggedBarcode                    95.144792\n",
      "userFlaggedNewItem                    95.346492\n",
      "userFlaggedPrice                      95.692263\n",
      "userFlaggedQuantity                   95.692263\n",
      "needsFetchReviewReason                96.844835\n",
      "pointsNotAwardedReason                95.101570\n",
      "pointsPayerId                         81.746146\n",
      "rewardsGroup                          75.061230\n",
      "rewardsProductPartnerId               67.310186\n",
      "userFlaggedDescription                97.046535\n",
      "originalMetaBriteBarcode              98.977093\n",
      "originalMetaBriteDescription          99.855929\n",
      "brandCode                             62.541421\n",
      "competitorRewardsGroup                96.038035\n",
      "discountedItemPrice                   16.885175\n",
      "originalReceiptItemText               17.014839\n",
      "itemNumber                            97.795707\n",
      "originalMetaBriteQuantityPurchased    99.783893\n",
      "pointsEarned_item                     86.644576\n",
      "targetPrice                           94.554099\n",
      "competitiveProduct                    90.707391\n",
      "originalFinalPrice                    99.870336\n",
      "originalMetaBriteItemPrice            99.870336\n",
      "deleted                               99.870336\n",
      "priceAfterCoupon                      86.226768\n",
      "metabriteCampaignId                   87.566633\n",
      "dtype: float64\n",
      "Missing Percentage in Brands:\n",
      " barcode          0.000000\n",
      "category        13.281919\n",
      "categoryCode    55.698372\n",
      "name             0.000000\n",
      "topBrand        52.442159\n",
      "brandCode       20.051414\n",
      "id               0.000000\n",
      "cpg_id           0.000000\n",
      "cpg_ref          0.000000\n",
      "dtype: float64\n",
      "Missing Percentage in Users:\n",
      " active           0.000000\n",
      "role             0.000000\n",
      "signUpSource     9.696970\n",
      "state           11.313131\n",
      "id               0.000000\n",
      "created_Date     0.000000\n",
      "last_Login      12.525253\n",
      "dtype: float64\n"
     ]
    }
   ],
   "source": [
    "# Percentage of missing values\n",
    "missing_percent_receipts = receipts.isnull().mean() * 100\n",
    "print(\"Missing Percentage in Receipts:\\n\", missing_percent_receipts)\n",
    "missing_percent_items = items.isnull().mean() * 100\n",
    "print(\"Missing Percentage in Items:\\n\", missing_percent_items)\n",
    "missing_percent_brands = brands.isnull().mean() * 100\n",
    "print(\"Missing Percentage in Brands:\\n\", missing_percent_brands)\n",
    "missing_percent_users = users.isnull().mean() * 100\n",
    "print(\"Missing Percentage in Users:\\n\", missing_percent_users)\n"
   ]
  },
  {
   "cell_type": "code",
   "execution_count": 76,
   "metadata": {},
   "outputs": [],
   "source": [
    "items['barcode'] = items['barcode'].fillna(0)"
   ]
  },
  {
   "cell_type": "markdown",
   "metadata": {},
   "source": [
    "##### Duplicate rows "
   ]
  },
  {
   "cell_type": "code",
   "execution_count": 94,
   "metadata": {},
   "outputs": [
    {
     "name": "stdout",
     "output_type": "stream",
     "text": [
      "Duplicate users:  283\n",
      "Unique users:  212\n",
      "Duplicate brands:  0\n"
     ]
    }
   ],
   "source": [
    "#Duplicate records for users\n",
    "users_duplicates = users.duplicated()\n",
    "print('Duplicate users: ',users_duplicates.sum())\n",
    "print('Unique users: ',users['id'].nunique())\n",
    "\n",
    "#Duplicate records for brands\n",
    "brands_duplicates = brands.duplicated()\n",
    "print('Duplicate brands: ',brands_duplicates.sum())"
   ]
  },
  {
   "cell_type": "markdown",
   "metadata": {},
   "source": [
    "##### Consistency Checks"
   ]
  },
  {
   "cell_type": "code",
   "execution_count": 78,
   "metadata": {},
   "outputs": [
    {
     "name": "stdout",
     "output_type": "stream",
     "text": [
      "Receipts with missing user references: 2604\n"
     ]
    }
   ],
   "source": [
    "# Check userId consistency\n",
    "missing_users = receipts[~receipts['userId'].isin(users['id'])]\n",
    "print(f\"Receipts with missing user references: {len(missing_users)}\")\n"
   ]
  },
  {
   "cell_type": "code",
   "execution_count": 79,
   "metadata": {},
   "outputs": [
    {
     "name": "stdout",
     "output_type": "stream",
     "text": [
      "Rewards items with missing brand references: 6859\n"
     ]
    }
   ],
   "source": [
    "# Check brandId consistency in rewardsReceiptItemList\n",
    "\n",
    "missing_brands = items[~items['barcode'].isin(brands['barcode'])]\n",
    "print(f\"Rewards items with missing brand references: {len(missing_brands)}\")\n"
   ]
  },
  {
   "cell_type": "markdown",
   "metadata": {},
   "source": [
    "#### Invalid data"
   ]
  },
  {
   "cell_type": "code",
   "execution_count": 92,
   "metadata": {},
   "outputs": [
    {
     "name": "stdout",
     "output_type": "stream",
     "text": [
      "Invalid purchase dates: 21\n",
      "Receipts with invalid totalSpent: 20\n",
      "Receipts with invalid purchased item count: 20\n"
     ]
    }
   ],
   "source": [
    "#check for invalid date values\n",
    "invalid_dates = receipts[receipts['purchase_Date'].isnull()]\n",
    "print(f\"Invalid purchase dates: {len(invalid_dates)}\")\n",
    "\n",
    "# Check for negative or zero totalSpent\n",
    "invalid_spent = receipts[receipts['totalSpent'] <= 0]\n",
    "print(f\"Receipts with invalid totalSpent: {len(invalid_spent)}\")\n",
    "\n",
    "# Check purchasedItemCount consistency\n",
    "invalid_item_count = receipts[receipts['purchasedItemCount'] <= 0]\n",
    "print(f\"Receipts with invalid purchased item count: {len(invalid_item_count)}\")\n"
   ]
  },
  {
   "cell_type": "code",
   "execution_count": 81,
   "metadata": {},
   "outputs": [
    {
     "name": "stdout",
     "output_type": "stream",
     "text": [
      "['topBrand', 'cpg_ref']\n"
     ]
    },
    {
     "data": {
      "text/plain": [
       "array(['Cogs', 'Cpgs'], dtype=object)"
      ]
     },
     "execution_count": 81,
     "metadata": {},
     "output_type": "execute_result"
    }
   ],
   "source": [
    "categorical_columns_brands = [col for col in brands.columns if brands[col].nunique() < 10]\n",
    "print(categorical_columns_brands)\n",
    "brands['cpg_ref'].unique()"
   ]
  },
  {
   "cell_type": "code",
   "execution_count": 82,
   "metadata": {},
   "outputs": [
    {
     "name": "stdout",
     "output_type": "stream",
     "text": [
      "['needsFetchReview', 'preventTargetGapPoints', 'userFlaggedBarcode', 'userFlaggedNewItem', 'userFlaggedQuantity', 'needsFetchReviewReason', 'pointsNotAwardedReason', 'userFlaggedDescription', 'originalMetaBriteBarcode', 'originalMetaBriteDescription', 'originalMetaBriteQuantityPurchased', 'targetPrice', 'competitiveProduct', 'originalFinalPrice', 'originalMetaBriteItemPrice', 'deleted']\n"
     ]
    }
   ],
   "source": [
    "categorical_columns_rewards = [col for col in items.columns if items[col].nunique() < 10]\n",
    "print(categorical_columns_rewards)\n"
   ]
  },
  {
   "cell_type": "code",
   "execution_count": 83,
   "metadata": {},
   "outputs": [
    {
     "name": "stdout",
     "output_type": "stream",
     "text": [
      "['bonusPointsEarnedReason', 'rewardsReceiptStatus']\n",
      "['Receipt number 2 completed, bonus point schedule DEFAULT (5cefdcacf3693e0b50e83a36)'\n",
      " 'Receipt number 5 completed, bonus point schedule DEFAULT (5cefdcacf3693e0b50e83a36)'\n",
      " 'All-receipts receipt bonus'\n",
      " 'Receipt number 1 completed, bonus point schedule DEFAULT (5cefdcacf3693e0b50e83a36)'\n",
      " 'Receipt number 3 completed, bonus point schedule DEFAULT (5cefdcacf3693e0b50e83a36)'\n",
      " 'Receipt number 6 completed, bonus point schedule DEFAULT (5cefdcacf3693e0b50e83a36)'\n",
      " 'Receipt number 4 completed, bonus point schedule DEFAULT (5cefdcacf3693e0b50e83a36)'\n",
      " nan 'COMPLETE_PARTNER_RECEIPT' 'COMPLETE_NONPARTNER_RECEIPT']\n",
      "['FINISHED' 'REJECTED' 'FLAGGED' 'PENDING']\n"
     ]
    }
   ],
   "source": [
    "categorical_columns_receipts = [col for col in receipts.columns if receipts[col].nunique() < 10]\n",
    "print(categorical_columns_receipts)\n",
    "print(receipts['bonusPointsEarnedReason'].unique())\n",
    "print(receipts['rewardsReceiptStatus'].unique())"
   ]
  },
  {
   "cell_type": "code",
   "execution_count": 85,
   "metadata": {},
   "outputs": [
    {
     "name": "stdout",
     "output_type": "stream",
     "text": [
      "nan\n",
      "MISSION\n",
      "BRAND\n",
      "KRAFT EASY CHEESE\n",
      "PEPSI\n",
      "DORITOS\n",
      "KLEENEX\n",
      "WINGSTOP\n",
      "GERM-X\n",
      "BEN AND JERRYS\n",
      "BORDEN\n",
      "KNORR\n",
      "KLARBRUNN\n",
      "HY-VEE\n",
      "LIGHT & FIT GREEK\n",
      "CONNIE'S PIZZA\n",
      "VAN DE KAMP'S\n",
      "HATCH FARMS\n",
      "KELLOGG'S\n",
      "TEMPTATIONS\n",
      "NATURE'S PATH ORGANIC\n",
      "DOLE\n",
      "EL MONTEREY\n",
      "BIGELOW\n",
      "HY-VEE SELECT\n",
      "KIKKOMAN\n",
      "SPECIAL K\n",
      "SWANSON\n",
      "YUBAN\n",
      "HILLSHIRE FARM\n",
      "JUST BARE\n",
      "LAURA'S LEAN BEEF\n",
      "CAL-ORGANIC FARMS\n",
      "DOLE CHILLED FRUIT JUICES\n",
      "BUSH'S BEST\n",
      "FOLGERS\n",
      "KASHI\n",
      "LIPTON\n",
      "KRAFT\n",
      "GREEN GIANT\n",
      "HARVEST SNAPS\n",
      "THAT'S SMART!\n",
      "TOSTITOS\n",
      "ADVIL\n",
      "CHICKEN OF THE SEA\n",
      "RICE-A-RONI\n",
      "STARKIST\n",
      "TIC TAC\n",
      "SO DELICIOUS\n",
      "WONDERFUL\n",
      "LIGHT & FIT\n",
      "HANOVER\n",
      "HIDDEN VALLEY\n",
      "DANNON\n",
      "KETTLE BRAND\n",
      "FAGE\n",
      "ORAL-B GLIDE\n",
      "CAMPBELL'S\n",
      "FRENCH'S\n",
      "CRISPIX\n",
      "KING ARTHUR FLOUR\n",
      "KITCHEN BASICS\n",
      "MCCORMICK\n",
      "OLD EL PASO\n",
      "PEPPERIDGE FARM\n",
      "STOVE TOP\n",
      "ZESTA\n",
      "AZTECA\n",
      "BUNNY\n",
      "NATURE VALLEY\n",
      "HONEY BUNCHES OF OATS\n",
      "SIMPLE TRUTH ORGANIC\n",
      "BOTA BOX\n",
      "DARE\n",
      "LINDT\n",
      "ARNOLD\n",
      "ORGANIC ROOT STIMULATOR\n",
      "GREY POUPON\n",
      "MERKT'S\n",
      "MORTON\n",
      "FRONTERA\n",
      "KARO\n",
      "KLONDIKE\n",
      "CHEESE\n",
      "CRACKER BARREL\n",
      "FLORIDA'S NATURAL\n",
      "BLUE DIAMOND\n",
      "LUNDBERG FAMILY FARMS\n",
      "NUTRI-GRAIN\n",
      "QUAKER\n",
      "DIGIORNO\n",
      "KEMPS\n",
      "THAI KITCHEN\n",
      "PHILADELPHIA\n",
      "THOMAS'\n",
      "POWER CRUNCH\n",
      "GERBER\n",
      "TACO BELL\n",
      "ORGANICVILLE\n",
      "PURINA ONE\n",
      "DR PEPPER\n",
      "COTTONELLE\n",
      "C&H\n",
      "CHEERIOS\n",
      "SIMPLE TRUTH\n",
      "STOUFFER'S\n",
      "PRINGLES\n",
      "HELLMANN'S/BEST FOODS\n",
      "MCCORMICK GRILL MATES\n",
      "THOMAS ENGLISH MUFFINS\n",
      "MARTINELLI'S\n",
      "COOL WHIP\n",
      "MARIE CALLENDER'S\n",
      "HEMPLER'S\n",
      "JIMMY DEAN\n",
      "SIGNATURE\n",
      "FRESH EXPRESS\n",
      "MOUNTAIN DEW\n",
      "JELL-O\n",
      "CLASSICO\n",
      "NABISCO\n",
      "RITZ TOASTED CHIPS\n",
      "LUNCHABLES\n",
      "RAGU\n",
      "KRUSTEAZ\n",
      "OSCAR MAYER\n",
      "PILLSBURY\n",
      "TILLAMOOK\n",
      "TYSON\n",
      "BEAR CREEK COUNTRY KITCHENS\n",
      "BIC\n",
      "GENERAL MILLS\n",
      "JACK LINK'S\n",
      "PLANTERS\n",
      "PROGRESSO\n",
      "RENUZIT\n",
      "BRASWELL'S\n",
      "JOHNSONVILLE\n",
      "OREO\n",
      "THOMAS\n",
      "FRANZ\n",
      "BETTY CROCKER\n",
      "CHEX\n",
      "CINNAMON TOAST CRUNCH\n",
      "TROLLI\n",
      "VELVEETA\n",
      "ORBIT\n",
      "WISHBONE\n",
      "WELCH'S\n",
      "PEARLS\n",
      "NUTELLA\n",
      "KRAZY GLUE\n",
      "PREGO\n",
      "VITAL FARMS ALFRESCO EGGS\n",
      "OVALTINE\n",
      "LA BANDERITA\n",
      "GRIMMWAY FARMS\n",
      "EGGO\n",
      "PACIFIC FOODS\n",
      "SABRA\n",
      "MRS. RENFRO'S\n",
      "REESE'S\n",
      "KIT KAT\n",
      "ORE-IDA\n",
      "FORTUNE YAKISOBA\n",
      "FINISH\n",
      "POMPEIAN\n",
      "JUST CRACK AN EGG\n",
      "SIMPLY POTATOES\n",
      "CHIQUITA\n",
      "CHEEZ-IT\n",
      "FRESH STEP\n",
      "SIGNATURE KITCHEN\n",
      "ENERGIZER MAX\n",
      "HERSHEY'S KISSES\n",
      "KERR\n",
      "PRIVATE SELECTION\n",
      "SKITTLES\n",
      "KROGER\n",
      "JOHN SOULES FOODS\n",
      "COLEMAN NATURAL\n",
      "SPARKLING ICE\n",
      "SARGENTO\n",
      "STOUFFER'S CLASSICS\n",
      "BOAR'S HEAD\n",
      "JACK DANIEL'S READY TO EAT\n",
      "ESSENTIAL EVERYDAY\n",
      "EGGLAND'S BEST\n",
      "MRS. CUBBISON'S\n",
      "GALLO FAMILY VINEYARDS\n",
      "LITEHOUSE\n",
      "CADBURY\n",
      "TOP FLIGHT\n",
      "CHEETOS\n",
      "LINDSAY\n",
      "HEWLETT PACKARD\n",
      "PLAYTEX\n",
      "CREST 3D WHITE\n",
      "HORMEL\n",
      "SMITHFIELD\n",
      "JENNIE-O\n",
      "COKE\n",
      "DIET COKE\n",
      "V8\n",
      "R.W. KNUDSEN\n",
      "7UP\n",
      "HAWAIIAN\n",
      "TAYLOR FARMS\n",
      "RITZ\n",
      "ARROWHEAD\n",
      "EDWARDS\n",
      "TOLL HOUSE\n",
      "NESTLE\n",
      "SCHWEBEL'S\n",
      "MARIE'S\n",
      "JELLY BELLY\n",
      "KERRYGOLD\n",
      "CARAMELLO\n",
      "CALIFIA FARMS\n",
      "FAMOUS DAVE'S\n",
      "BANZA\n",
      "AMERICAN BEAUTY\n",
      "DELI\n",
      "HERITAGE FARM\n",
      "ROSARITA\n",
      "SHOPRITE\n",
      "HUGGIES\n",
      "VIVA\n"
     ]
    }
   ],
   "source": [
    "for rb in items['brandCode'].unique():\n",
    "    if rb not in brands['brandCode']:\n",
    "        print(rb)"
   ]
  },
  {
   "cell_type": "code",
   "execution_count": 86,
   "metadata": {},
   "outputs": [
    {
     "data": {
      "text/plain": [
       "array([[<Axes: title={'center': 'purchasedItemCount'}>]], dtype=object)"
      ]
     },
     "execution_count": 86,
     "metadata": {},
     "output_type": "execute_result"
    },
    {
     "data": {
      "image/png": "[encoded data removed]",
      "text/plain": [
       "<Figure size 640x480 with 1 Axes>"
      ]
     },
     "metadata": {},
     "output_type": "display_data"
    },
    {
     "data": {
      "image/png": "[encoded data removed]",
      "text/plain": [
       "<Figure size 640x480 with 1 Axes>"
      ]
     },
     "metadata": {},
     "output_type": "display_data"
    },
    {
     "data": {
      "image/png": "[encoded data removed]",
      "text/plain": [
       "<Figure size 640x480 with 1 Axes>"
      ]
     },
     "metadata": {},
     "output_type": "display_data"
    },
    {
     "data": {
      "image/png": "[encoded data removed]",
      "text/plain": [
       "<Figure size 640x480 with 1 Axes>"
      ]
     },
     "metadata": {},
     "output_type": "display_data"
    }
   ],
   "source": [
    "receipts[['pointsEarned']].hist(bins=20)\n",
    "receipts[['bonusPointsEarned']].hist(bins=20)\n",
    "receipts[['totalSpent']].hist(bins=20)\n",
    "receipts[['purchasedItemCount']].hist(bins=20)\n"
   ]
  },
  {
   "cell_type": "markdown",
   "metadata": {},
   "source": [
    "### SQL Queries ( 2 examples)"
   ]
  },
  {
   "cell_type": "code",
   "execution_count": 87,
   "metadata": {},
   "outputs": [],
   "source": [
    "import pandasql"
   ]
  },
  {
   "cell_type": "code",
   "execution_count": 88,
   "metadata": {},
   "outputs": [
    {
     "name": "stdout",
     "output_type": "stream",
     "text": [
      "  rewardsReceiptStatus  average_spend\n",
      "0             FINISHED    1244.793472\n",
      "1             REJECTED      19.902500\n"
     ]
    }
   ],
   "source": [
    "#3 \n",
    "query3 = \"\"\"\n",
    "SELECT\n",
    "    rewardsReceiptStatus,\n",
    "    COALESCE(AVG(totalSpent),0) AS average_spend\n",
    "FROM\n",
    "    receipts\n",
    "where\n",
    "rewardsReceiptStatus IN ('FINISHED', 'REJECTED') \n",
    "GROUP BY\n",
    "    rewardsReceiptStatus\n",
    "    \n",
    "\"\"\"\n",
    "#using FINISHED for ACCEPTED\n",
    "result3 = pandasql.sqldf(query3, locals())\n",
    "print(result3)"
   ]
  },
  {
   "cell_type": "code",
   "execution_count": 89,
   "metadata": {},
   "outputs": [
    {
     "name": "stdout",
     "output_type": "stream",
     "text": [
      "  rewardsReceiptStatus  total_items_purchased\n",
      "0             FINISHED              1364998.0\n",
      "1             REJECTED                  740.0\n"
     ]
    }
   ],
   "source": [
    "#4\n",
    "query4 = \"\"\"\n",
    "SELECT\n",
    "    rewardsReceiptStatus,\n",
    "    COALESCE(SUM(purchasedItemCount),0) AS total_items_purchased\n",
    "FROM\n",
    "    receipts\n",
    "WHERE\n",
    "    rewardsReceiptStatus IN ('FINISHED', 'REJECTED')\n",
    "GROUP BY\n",
    "    rewardsReceiptStatus\n",
    "    \"\"\"\n",
    "#using FINISHED for ACCEPTED\n",
    "result4 = pandasql.sqldf(query4, locals())\n",
    "print(result4)"
   ]
  },
  {
   "cell_type": "code",
   "execution_count": 90,
   "metadata": {},
   "outputs": [
    {
     "name": "stdout",
     "output_type": "stream",
     "text": [
      "  brand_name  transaction_count\n",
      "0   Tostitos               5118\n"
     ]
    }
   ],
   "source": [
    "query6 = \"\"\" \n",
    "WITH MaxCreatedDate AS (\n",
    "    SELECT MAX(created_Date) AS max_date\n",
    "    FROM users\n",
    "),\n",
    "FilteredUsers AS (\n",
    "    SELECT u.id, u.created_Date\n",
    "    FROM users u, MaxCreatedDate m\n",
    "    WHERE u.created_Date >= datetime(m.max_date, '-6 months')\n",
    ")\n",
    "SELECT \n",
    "    b.name AS brand_name,\n",
    "    COUNT(ri.id) AS transaction_count\n",
    "FROM \n",
    "    FilteredUsers u\n",
    "JOIN \n",
    "    receipts r ON u.id = r.userId\n",
    "JOIN \n",
    "    items ri ON r.id = ri.id\n",
    "JOIN \n",
    "    brands b ON ri.barcode = b.barcode\n",
    "GROUP BY \n",
    "    b.name\n",
    "ORDER BY \n",
    "    transaction_count DESC\n",
    "LIMIT 1;\n",
    "\n",
    "\"\"\"\n",
    "\n",
    "\n",
    "result6 = pandasql.sqldf(query6, locals())\n",
    "print(result6)"
   ]
  }
 ],
 "metadata": {
  "kernelspec": {
   "display_name": "Python 3",
   "language": "python",
   "name": "python3"
  },
  "language_info": {
   "codemirror_mode": {
    "name": "ipython",
    "version": 3
   },
   "file_extension": ".py",
   "mimetype": "text/x-python",
   "name": "python",
   "nbconvert_exporter": "python",
   "pygments_lexer": "ipython3",
   "version": "3.12.1"
  }
 },
 "nbformat": 4,
 "nbformat_minor": 2
}
